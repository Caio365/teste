{
  "nbformat": 4,
  "nbformat_minor": 0,
  "metadata": {
    "colab": {
      "provenance": [],
      "authorship_tag": "ABX9TyO2jmunc/CJE3BsgBhf8SJv",
      "include_colab_link": true
    },
    "kernelspec": {
      "name": "python3",
      "display_name": "Python 3"
    },
    "language_info": {
      "name": "python"
    }
  },
  "cells": [
    {
      "cell_type": "markdown",
      "metadata": {
        "id": "view-in-github",
        "colab_type": "text"
      },
      "source": [
        "<a href=\"https://colab.research.google.com/github/Caio365/teste/blob/main/Untitled3.ipynb\" target=\"_parent\"><img src=\"https://colab.research.google.com/assets/colab-badge.svg\" alt=\"Open In Colab\"/></a>"
      ]
    },
    {
      "cell_type": "code",
      "execution_count": 1,
      "metadata": {
        "colab": {
          "base_uri": "https://localhost:8080/"
        },
        "id": "a3oa-2UZ69Lo",
        "outputId": "631f32ee-8560-408a-e55f-0dd351c04dbe"
      },
      "outputs": [
        {
          "output_type": "stream",
          "name": "stdout",
          "text": [
            "Total de 7 e 3 é: 10\n"
          ]
        }
      ],
      "source": [
        "num1 = 7\n",
        "num2 = 3\n",
        "soma = num1 + num2\n",
        "print(f\"Total de {num1} e {num2} é: {soma}\")\n"
      ]
    },
    {
      "cell_type": "code",
      "source": [
        "num1 = 7\n",
        "num2 = 3\n",
        "\n",
        "multiplicacao = num1 * num2\n",
        "\n",
        "print(f\"A multiplicaçao de {num1} e {num2} é: {multiplicacao}\")\n"
      ],
      "metadata": {
        "colab": {
          "base_uri": "https://localhost:8080/"
        },
        "id": "Cmfdbf-h7tOA",
        "outputId": "4a2e2226-6317-4a9c-f24c-074a0685765a"
      },
      "execution_count": 3,
      "outputs": [
        {
          "output_type": "stream",
          "name": "stdout",
          "text": [
            "A multiplicaçao de 7 e 3 é: 21\n"
          ]
        }
      ]
    },
    {
      "cell_type": "code",
      "source": [
        "nota1 = 2.5\n",
        "nota2 = 7.5\n",
        "nota3 = 4.5\n",
        "\n",
        "media=(nota1 + nota2 + nota3) / 3\n",
        "\n",
        "print(f\"Sua Media é: {media}\")\n"
      ],
      "metadata": {
        "colab": {
          "base_uri": "https://localhost:8080/"
        },
        "id": "sCnjqzs17yFb",
        "outputId": "a36baadb-c5c7-4b4b-f784-e8d943b1155d"
      },
      "execution_count": 6,
      "outputs": [
        {
          "output_type": "stream",
          "name": "stdout",
          "text": [
            "Sua Media é: 4.833333333333333\n"
          ]
        }
      ]
    },
    {
      "cell_type": "code",
      "source": [
        "num1 = int(input(\"escreva um numero: \"))\n",
        "\n",
        "if num1 > 0:\n",
        "    print(\"Seu número é positivo.\")\n",
        "elif num1 < 0:\n",
        "    print(\"Seu número é negativo.\")\n",
        "else:\n",
        "    print(\"Seu número é zero.\")\n"
      ],
      "metadata": {
        "colab": {
          "base_uri": "https://localhost:8080/"
        },
        "id": "0USjALEH8Ar4",
        "outputId": "2c986c88-be4d-4c3f-928e-191ef34391cc"
      },
      "execution_count": 7,
      "outputs": [
        {
          "output_type": "stream",
          "name": "stdout",
          "text": [
            "escreva um numero: 6\n",
            "Seu número é positivo.\n"
          ]
        }
      ]
    },
    {
      "cell_type": "code",
      "source": [
        "num2 = int(input(\"Digite um número real e inteiro: \"))\n",
        "\n",
        "if num2 % 2 == 0:\n",
        "    print(\"O número é par.\")\n",
        "else:\n",
        "    print(\"O número é ímpar.\")\n"
      ],
      "metadata": {
        "colab": {
          "base_uri": "https://localhost:8080/"
        },
        "id": "v6rmOsMN8NiX",
        "outputId": "add5fc1e-fc3b-4c30-a10d-41d301d5cfa9"
      },
      "execution_count": 8,
      "outputs": [
        {
          "output_type": "stream",
          "name": "stdout",
          "text": [
            "Digite um número real e inteiro: 10\n",
            "O número é par.\n"
          ]
        }
      ]
    },
    {
      "cell_type": "code",
      "source": [
        "nota1 = 9.3\n",
        "nota2 = 8.2\n",
        "nota3 = 6.8\n",
        "\n",
        "media = (nota1 + nota2 + nota3) / 3\n",
        "\n",
        "print(f\"Sua média das notas é: {media}\")\n",
        "\n",
        "if media >= 6.0:\n",
        "  print(\"PARABÉNS VOCÊ FOI APROVADO.\")\n",
        "elif 4.0 <= media < 6.0:\n",
        "  print(\"VOCÊ ESTÁ DE RECUPERAÇÃO.\")\n",
        "else:\n",
        "  print(\"VOCÊ FOI REPROVADO, ESTUDE MAIS.\")\n"
      ],
      "metadata": {
        "colab": {
          "base_uri": "https://localhost:8080/"
        },
        "id": "uNaTgymI8Qor",
        "outputId": "cdd9c94e-9f52-4a0d-8390-137ff0450f11"
      },
      "execution_count": 9,
      "outputs": [
        {
          "output_type": "stream",
          "name": "stdout",
          "text": [
            "Sua média das notas é: 8.1\n",
            "PARABÉNS VOCÊ FOI APROVADO.\n"
          ]
        }
      ]
    },
    {
      "cell_type": "code",
      "source": [
        "numero = 7\n",
        "\n",
        "while numero <= 10:\n",
        " print(numero)\n",
        " numero += 1\n",
        "\n"
      ],
      "metadata": {
        "colab": {
          "base_uri": "https://localhost:8080/"
        },
        "id": "MfDeKAMy8WuO",
        "outputId": "6a0da789-0b05-4b39-e801-9fd5c0be557d"
      },
      "execution_count": 12,
      "outputs": [
        {
          "output_type": "stream",
          "name": "stdout",
          "text": [
            "7\n",
            "8\n",
            "9\n",
            "10\n"
          ]
        }
      ]
    },
    {
      "cell_type": "code",
      "source": [],
      "metadata": {
        "id": "9AKnbn-u8rWu"
      },
      "execution_count": null,
      "outputs": []
    },
    {
      "cell_type": "code",
      "source": [
        "for numero in range(1, 19):\n",
        " print(numero)\n"
      ],
      "metadata": {
        "colab": {
          "base_uri": "https://localhost:8080/"
        },
        "id": "u3hF76AR8tlo",
        "outputId": "06eaf6a0-8f66-4c06-844b-341fbd6b25aa"
      },
      "execution_count": 13,
      "outputs": [
        {
          "output_type": "stream",
          "name": "stdout",
          "text": [
            "1\n",
            "2\n",
            "3\n",
            "4\n",
            "5\n",
            "6\n",
            "7\n",
            "8\n",
            "9\n",
            "10\n",
            "11\n",
            "12\n",
            "13\n",
            "14\n",
            "15\n",
            "16\n",
            "17\n",
            "18\n"
          ]
        }
      ]
    },
    {
      "cell_type": "code",
      "source": [
        "num1 = int(input(\"Digite um número real e inteiro para a tabuada: \"))\n",
        "\n",
        "print(f\"Tabuada do {num1}:\")\n",
        "\n",
        "for i in range(1, 19):\n",
        "\n",
        " resultado = num1 * i\n",
        " print(f\"{num1} x {i} = {resultado}\")\n"
      ],
      "metadata": {
        "colab": {
          "base_uri": "https://localhost:8080/"
        },
        "id": "fvIChMWt8uv9",
        "outputId": "8a25cc8a-0ba6-4744-fcc0-d71e0e9eb60d"
      },
      "execution_count": 14,
      "outputs": [
        {
          "output_type": "stream",
          "name": "stdout",
          "text": [
            "Digite um número real e inteiro para a tabuada: 5\n",
            "Tabuada do 5:\n",
            "5 x 1 = 5\n",
            "5 x 2 = 10\n",
            "5 x 3 = 15\n",
            "5 x 4 = 20\n",
            "5 x 5 = 25\n",
            "5 x 6 = 30\n",
            "5 x 7 = 35\n",
            "5 x 8 = 40\n",
            "5 x 9 = 45\n",
            "5 x 10 = 50\n",
            "5 x 11 = 55\n",
            "5 x 12 = 60\n",
            "5 x 13 = 65\n",
            "5 x 14 = 70\n",
            "5 x 15 = 75\n",
            "5 x 16 = 80\n",
            "5 x 17 = 85\n",
            "5 x 18 = 90\n"
          ]
        }
      ]
    },
    {
      "cell_type": "code",
      "source": [
        "numero = 0\n",
        "\n",
        "while numero <= 100:\n",
        " print(numero)\n",
        " numero += 10\n",
        "\n"
      ],
      "metadata": {
        "colab": {
          "base_uri": "https://localhost:8080/"
        },
        "id": "vfb62I9T84oR",
        "outputId": "df5865d7-4ac5-4a95-c9f1-d6f435290709"
      },
      "execution_count": 15,
      "outputs": [
        {
          "output_type": "stream",
          "name": "stdout",
          "text": [
            "0\n",
            "10\n",
            "20\n",
            "30\n",
            "40\n",
            "50\n",
            "60\n",
            "70\n",
            "80\n",
            "90\n",
            "100\n"
          ]
        }
      ]
    },
    {
      "cell_type": "code",
      "source": [
        "\n",
        "for numero in range(0, 11, 20):\n",
        " print(numero)\n"
      ],
      "metadata": {
        "colab": {
          "base_uri": "https://localhost:8080/"
        },
        "id": "35SUPPvF86j_",
        "outputId": "c1d89865-554e-4a6d-a100-802c958271a0"
      },
      "execution_count": 17,
      "outputs": [
        {
          "output_type": "stream",
          "name": "stdout",
          "text": [
            "0\n"
          ]
        }
      ]
    },
    {
      "cell_type": "code",
      "source": [
        "\n",
        "def celsius_para_fahrenheit():\n",
        "  try:\n",
        "    celsius = float(input(\"Digite a temperatura em graus Celsius: \"))\n",
        "  except ValueError:\n",
        "    print(\"Entrada inválida. Digite um número válido.\")\n",
        "    return\n",
        "\n",
        "  fahrenheit = celsius * 1.8 + 32\n",
        "  print(f\"{celsius} graus Celsius equivalem a {fahrenheit} graus Fahrenheit.\")\n",
        "\n",
        "celsius_para_fahrenheit()\n"
      ],
      "metadata": {
        "colab": {
          "base_uri": "https://localhost:8080/"
        },
        "id": "3G274bGz89kZ",
        "outputId": "51bf9ead-0d9e-4f70-9b08-2f7042bbe9ed"
      },
      "execution_count": 19,
      "outputs": [
        {
          "output_type": "stream",
          "name": "stdout",
          "text": [
            "Digite a temperatura em graus Celsius: 32\n",
            "32.0 graus Celsius equivalem a 89.6 graus Fahrenheit.\n"
          ]
        }
      ]
    },
    {
      "cell_type": "code",
      "source": [
        "def calculadora():\n",
        "\n",
        "  try:\n",
        "    num1 = float(input(\"Digite o primeiro número: \"))\n",
        "    num2 = float(input(\"Digite o segundo número: \"))\n",
        "  except ValueError:\n",
        "    print(\"Entrada inválida. Digite números válidos.\")\n",
        "    return\n",
        "\n",
        "  operacao = input(\"Digite a operação (+, -, *, /): \")\n",
        "\n",
        "  if operacao == '+':\n",
        "    resultado = num1 + num2\n",
        "  elif operacao == '-':\n",
        "    resultado = num1 - num2\n",
        "  elif operacao == '*':\n",
        "    resultado = num1 * num2\n",
        "  elif operacao == '/':\n",
        "    if num2 == 0:\n",
        "      print(\"Erro: divisão por zero.\")\n",
        "      return\n",
        "    resultado = num1 / num2\n",
        "  else:\n",
        "    print(\"Operação inválida.\")\n",
        "    return\n",
        "\n",
        "  print(f\"Resultado: {resultado}\")\n",
        "\n",
        "calculadora()\n",
        "\n",
        "\n"
      ],
      "metadata": {
        "colab": {
          "base_uri": "https://localhost:8080/"
        },
        "id": "031KMchC9US7",
        "outputId": "8a99f9e0-0e4e-4f58-a026-6752084225a5"
      },
      "execution_count": 20,
      "outputs": [
        {
          "output_type": "stream",
          "name": "stdout",
          "text": [
            "Digite o primeiro número: 10\n",
            "Digite o segundo número: 25\n",
            "Digite a operação (+, -, *, /): /\n",
            "Resultado: 0.4\n"
          ]
        }
      ]
    }
  ]
}